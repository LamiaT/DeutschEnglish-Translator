{
 "cells": [
  {
   "cell_type": "code",
   "execution_count": 11,
   "metadata": {
    "id": "vbaw5989ntAx"
   },
   "outputs": [],
   "source": [
    "# Neural Machine Translation Model\n",
    "\n",
    "# keywords = Seq2Seq model with Attention, Bahdanau Attention, \n",
    "# GRU architecture, Seq to Seq RNN, \n",
    "# Sequence-to-Sequence GRU RNN architecture"
   ]
  },
  {
   "cell_type": "code",
   "execution_count": 12,
   "metadata": {
    "id": "F-LCFWFNntA2"
   },
   "outputs": [],
   "source": [
    "# Importing Necessary Libraries\n",
    "\n",
    "import pandas as pd\n",
    "import tensorflow as tf\n",
    "import numpy as np\n",
    "import matplotlib.pyplot as plt\n",
    "import matplotlib.ticker as ticker\n",
    "from sklearn.model_selection import train_test_split\n",
    "\n",
    "import unicodedata\n",
    "import re\n",
    "import os\n",
    "import io\n",
    "import time"
   ]
  },
  {
   "cell_type": "code",
   "execution_count": 13,
   "metadata": {
    "id": "chxrDRa6ntA7"
   },
   "outputs": [],
   "source": [
    "# Prepping the dataset\n",
    "\n",
    "# Converts the unicode file to ascii\n",
    "def unicode_to_ascii(s):\n",
    "    return ''.join(c for c in unicodedata.normalize('NFD', s)\n",
    "                   if unicodedata.category(c) != 'Mn')\n"
   ]
  },
  {
   "cell_type": "code",
   "execution_count": 14,
   "metadata": {
    "id": "vVDAOS4OsC6V"
   },
   "outputs": [],
   "source": [
    "def preprocess_sentence(w):\n",
    "    w = unicode_to_ascii(w.lower().strip())\n",
    "    w = re.sub(r\"([?.!])\", r\" \\1 \", w)\n",
    "    w = re.sub(r'[\" \"]+', \" \", w)\n",
    "    \n",
    "    # replacing everything with space except (a-z, A-Z, \".\", \"?\", \"!\", \",\")\n",
    "    w = re.sub(r\"[^a-zA-Z?.!,]+\", \" \", w)\n",
    "    \n",
    "    w = w.strip()\n",
    "    \n",
    "    # adding a start and an end token to the sentence\n",
    "    # so that the model know when to start and stop predicting.\n",
    "    w = '<start> ' + w + ' <end>'\n",
    "    \n",
    "    return w\n"
   ]
  },
  {
   "cell_type": "code",
   "execution_count": 15,
   "metadata": {
    "id": "0quAaozdsC7i"
   },
   "outputs": [],
   "source": [
    "# 1. Remove the accents\n",
    "# 2. Clean the sentences\n",
    "# 3. Return word pairs in the format: [ENGLISH, DEUTSCH]\n",
    "\n",
    "def create_dataset(path, num_examples):\n",
    "    \n",
    "    lines = io.open(path, encoding='UTF-8').read().strip().split('\\n')\n",
    "    \n",
    "    word_pairs = [[preprocess_sentence(w) for w in l.split('\\t')]  for l in lines[:num_examples]]\n",
    "    \n",
    "    return zip(*word_pairs)\n"
   ]
  },
  {
   "cell_type": "code",
   "execution_count": 16,
   "metadata": {
    "id": "otPftMw2oxNm"
   },
   "outputs": [],
   "source": [
    "def tokenize(lang):\n",
    "    \n",
    "    lang_tokenizer = tf.keras.preprocessing.text.Tokenizer(filters='')\n",
    "    \n",
    "    lang_tokenizer.fit_on_texts(lang)\n",
    "    \n",
    "    tensor = lang_tokenizer.texts_to_sequences(lang)\n",
    "    \n",
    "    tensor = tf.keras.preprocessing.sequence.pad_sequences(tensor,\n",
    "                                                           padding='post')\n",
    "    \n",
    "    return tensor, lang_tokenizer\n"
   ]
  },
  {
   "cell_type": "code",
   "execution_count": 17,
   "metadata": {
    "id": "w1kkim_DsDBt"
   },
   "outputs": [],
   "source": [
    "def load_dataset(path, num_examples=None):\n",
    "    \n",
    "    # creating cleaned input, output pairs\n",
    "    \n",
    "    targ_lang, inp_lang = create_dataset(path, num_examples)\n",
    "    \n",
    "    input_tensor, inp_lang_tokenizer = tokenize(inp_lang)\n",
    "    \n",
    "    target_tensor, targ_lang_tokenizer = tokenize(targ_lang)\n",
    "    \n",
    "    return input_tensor, target_tensor, inp_lang_tokenizer, targ_lang_tokenizer\n"
   ]
  },
  {
   "cell_type": "code",
   "execution_count": 18,
   "metadata": {
    "id": "2tK79NMesmHR"
   },
   "outputs": [],
   "source": [
    "path_to_file = '/content/deu.txt'"
   ]
  },
  {
   "cell_type": "code",
   "execution_count": 22,
   "metadata": {
    "id": "0sKsUtA3ntA_"
   },
   "outputs": [],
   "source": [
    "# Using first 95000 examples from dataset\n",
    "\n",
    "num_examples = 95000\n",
    "\n",
    "input_tensor, target_tensor, inp_lang, targ_lang = load_dataset(path_to_file, num_examples)\n",
    "\n",
    "max_length_targ, max_length_inp = target_tensor.shape[1], input_tensor.shape[1]"
   ]
  },
  {
   "cell_type": "code",
   "execution_count": 23,
   "metadata": {
    "colab": {
     "base_uri": "https://localhost:8080/"
    },
    "id": "iDuj2ivuntBB",
    "outputId": "b9e16c9f-34f6-4f78-a63c-cd9c8a62db7a"
   },
   "outputs": [
    {
     "name": "stdout",
     "output_type": "stream",
     "text": [
      "76000 76000 19000 19000\n"
     ]
    }
   ],
   "source": [
    "# Creating training, validation sets with 80-20 split ratio\n",
    "\n",
    "input_tensor_train, input_tensor_val, target_tensor_train, target_tensor_val = train_test_split(input_tensor, \n",
    "                                                                                                target_tensor, \n",
    "                                                                                                test_size = 0.2)\n",
    "\n",
    "# Printing lengths\n",
    "\n",
    "print(len(input_tensor_train), \n",
    "      len(target_tensor_train), \n",
    "      len(input_tensor_val), \n",
    "      len(target_tensor_val)\n",
    "     )\n"
   ]
  },
  {
   "cell_type": "code",
   "execution_count": 24,
   "metadata": {
    "id": "UFWdMQn_ntBC"
   },
   "outputs": [],
   "source": [
    "# Function to display how data is encoded\n",
    "\n",
    "def convert(lang, tensor):\n",
    "    for t in tensor:\n",
    "        if t!=0:\n",
    "            print (\"%d ----> %s\" % (t, lang.index_word[t]))"
   ]
  },
  {
   "cell_type": "code",
   "execution_count": 25,
   "metadata": {
    "colab": {
     "base_uri": "https://localhost:8080/"
    },
    "id": "88IikDGKntBE",
    "outputId": "201d064c-94b3-421f-d462-146b114acfe1"
   },
   "outputs": [
    {
     "name": "stdout",
     "output_type": "stream",
     "text": [
      "Input Language; index to word mapping\n",
      "1 ----> <start>\n",
      "17 ----> die\n",
      "2223 ----> arbeiter\n",
      "14898 ----> grundeten\n",
      "29 ----> eine\n",
      "14899 ----> gewerkschaft\n",
      "3 ----> .\n",
      "2 ----> <end>\n",
      "\n",
      "Target Language; index to word mapping\n",
      "1 ----> <start>\n",
      "11 ----> the\n",
      "2585 ----> workers\n",
      "4297 ----> formed\n",
      "10 ----> a\n",
      "8510 ----> union\n",
      "3 ----> .\n",
      "2 ----> <end>\n"
     ]
    }
   ],
   "source": [
    "print (\"Input Language; index to word mapping\")\n",
    "\n",
    "convert(inp_lang, input_tensor_train[0])\n",
    "\n",
    "print ()\n",
    "\n",
    "print (\"Target Language; index to word mapping\")\n",
    "\n",
    "convert(targ_lang, target_tensor_train[0])"
   ]
  },
  {
   "cell_type": "code",
   "execution_count": 26,
   "metadata": {
    "id": "AASqkIn5ntBF"
   },
   "outputs": [],
   "source": [
    "# Creating Tensorflow dataset object; \n",
    "# to easily access it while training\n",
    "\n",
    "\n",
    "# Buffer Size while shuffling data\n",
    "\n",
    "BUFFER_SIZE = len(input_tensor_train)\n",
    "\n",
    "BATCH_SIZE = 64\n",
    "\n",
    "steps_per_epoch = len(input_tensor_train) // BATCH_SIZE\n",
    "\n",
    "# Size of Embedding Layer\n",
    "\n",
    "embedding_dim = 256\n",
    "\n",
    "# Number of hidden units in GRU\n",
    "\n",
    "units = 1024\n",
    "\n",
    "# Size of Vocabulary at Encoder (i.e., Spanish)\n",
    "\n",
    "vocab_inp_size = len(inp_lang.word_index) + 1\n",
    "\n",
    "# Size of Vocabulary at Decoder (i.e., English)\n",
    "\n",
    "vocab_tar_size = len(targ_lang.word_index) + 1\n",
    "\n",
    "# Creating a Tensorflow Dataset Object\n",
    "\n",
    "dataset = tf.data.Dataset.from_tensor_slices((input_tensor_train, \n",
    "                                              target_tensor_train)).shuffle(BUFFER_SIZE)\n",
    "\n",
    "dataset = dataset.batch(BATCH_SIZE, \n",
    "                        drop_remainder = True)"
   ]
  },
  {
   "cell_type": "code",
   "execution_count": 27,
   "metadata": {
    "colab": {
     "base_uri": "https://localhost:8080/"
    },
    "id": "p5ysaNR-ntBG",
    "outputId": "ef77d254-23c0-4c4e-f66c-a9edb5824fe1"
   },
   "outputs": [
    {
     "name": "stdout",
     "output_type": "stream",
     "text": [
      "(64, 20)\n",
      "\n",
      "(64, 14)\n"
     ]
    }
   ],
   "source": [
    "example_input_batch, example_target_batch = next(iter(dataset))\n",
    "\n",
    "print(example_input_batch.shape)\n",
    "print()\n",
    "print(example_target_batch.shape)"
   ]
  },
  {
   "cell_type": "code",
   "execution_count": 28,
   "metadata": {
    "id": "ewZZVjLNntBH"
   },
   "outputs": [],
   "source": [
    "# Creating the Model, using Sequence-to-Sequence GRU RNN architecture\n",
    "\n",
    "# Encoder - Decoder model with attention extension\n",
    "\n",
    "# Creating Encoder\n",
    "# Creating a Custom Layer\n",
    "\n",
    "class Encoder(tf.keras.Model):\n",
    "    \n",
    "    def __init__(self,vocab_size,embedding_dim,enc_units,batch_sz):\n",
    "        \n",
    "        super(Encoder,self).__init__()\n",
    "        \n",
    "        '''\n",
    "        vocab_size : Size of the Vocabulary\n",
    "        embedding_dim : Size of the Embedding layer\n",
    "        enc_units : No. of Hidden Units in the GRU\n",
    "        batch_sz : Batch Size\n",
    "        '''\n",
    "        \n",
    "        self.enc_units = enc_units\n",
    "        self.batch_sz = batch_sz\n",
    "        \n",
    "        #Embedding Layer\n",
    "        \n",
    "        self.embedding = tf.keras.layers.Embedding(vocab_size,embedding_dim)\n",
    "        \n",
    "        #GRU\n",
    "        \n",
    "        self.gru = tf.keras.layers.GRU(self.enc_units,\n",
    "                                   return_sequences = True,\n",
    "                                   return_state = True,\n",
    "                                   recurrent_initializer = 'glorot_uniform')\n",
    "    \n",
    "    # Function to create model with the layers \n",
    "    \n",
    "    def call(self,inp,hidden):\n",
    "        \n",
    "        '''\n",
    "        inp: input to the model.i.e., vectorized form of the spanish sentence\n",
    "        hidden: intial hidden_state of the gru.\n",
    "        '''\n",
    "        \n",
    "        x = self.embedding(inp)\n",
    "        \n",
    "        output, state = self.gru(x, initial_state = hidden)\n",
    "        \n",
    "        return output, state\n",
    "    \n",
    "    # Function to initialize the initial hidden state of GRU\n",
    "    \n",
    "    def initialize_hidden_state(self):\n",
    "        \n",
    "        return tf.zeros([self.batch_sz, \n",
    "                         self.enc_units]) \n"
   ]
  },
  {
   "cell_type": "code",
   "execution_count": 29,
   "metadata": {
    "id": "k0zjaFPpntBI"
   },
   "outputs": [],
   "source": [
    "encoder = Encoder(vocab_inp_size, \n",
    "                  embedding_dim, \n",
    "                  units, \n",
    "                  BATCH_SIZE\n",
    "                 )"
   ]
  },
  {
   "cell_type": "code",
   "execution_count": 30,
   "metadata": {
    "colab": {
     "base_uri": "https://localhost:8080/"
    },
    "id": "YQLao4PJntBJ",
    "outputId": "468892c4-2fbf-470a-e694-6e5b67bf40d3"
   },
   "outputs": [
    {
     "name": "stdout",
     "output_type": "stream",
     "text": [
      "Encoder output shape: (batch size, sequence length, units) (64, 20, 1024)\n",
      "Encoder Hidden state shape: (batch size, units) (64, 1024)\n"
     ]
    }
   ],
   "source": [
    "sample_hidden = encoder.initialize_hidden_state()\n",
    "\n",
    "sample_output, sample_hidden = encoder(example_input_batch, \n",
    "                                       sample_hidden)\n",
    "\n",
    "print ('Encoder output shape: (batch size, sequence length, units) {}'.format(sample_output.shape))\n",
    "\n",
    "print ('Encoder Hidden state shape: (batch size, units) {}'.format(sample_hidden.shape))"
   ]
  },
  {
   "cell_type": "code",
   "execution_count": 31,
   "metadata": {
    "id": "C2gTz7ZfntBJ"
   },
   "outputs": [],
   "source": [
    "# Creating Bahdanau Attention\n",
    "\n",
    "class BahdanauAttention(tf.keras.layers.Layer):\n",
    "    \n",
    "    def __init__(self,units):\n",
    "        \n",
    "        super(BahdanauAttention,self).__init__()\n",
    "        \n",
    "        '''\n",
    "        units: Number of hidden Units , represented as \"h_u\" in the article\n",
    "        '''\n",
    "        \n",
    "        self.units = units\n",
    "        \n",
    "        self.W1 = tf.keras.layers.Dense(self.units)\n",
    "        \n",
    "        self.W2 = tf.keras.layers.Dense(self.units)\n",
    "        \n",
    "        self.V = tf.keras.layers.Dense(1)\n",
    "    \n",
    "    \n",
    "    #Function that will create the model with the layers \n",
    "    \n",
    "    def call(self,query, values):\n",
    "        \n",
    "        '''\n",
    "        query : The hidden state of the GRUs \"refer to B\"\n",
    "        values: The output of the GRUs \"refer to A\"\n",
    "        '''\n",
    "        \n",
    "        #To ccnvert the query from 2-D to 3-D\n",
    "        \n",
    "        query_with_time_axis = tf.expand_dims(query, 1)\n",
    "        \n",
    "        #Implementation of STEP-1\n",
    "        \n",
    "        '''Both query and Values are passed into a dense layer with units \"h_u\"\n",
    "        and,added together,after that a tanh activation is applied and finally\n",
    "        the result is passed into a dense layer with one neuron. ''' \n",
    "        \n",
    "        score = self.V(tf.keras.activations.tanh(\n",
    "            self.W1(query_with_time_axis) + self.W2(values))\n",
    "                      )\n",
    "        \n",
    "        # Implementaion of STEP-2\n",
    "        \n",
    "        attention_weights = tf.keras.activations.softmax(score, 1)\n",
    "        \n",
    "        #Implementation of STEP-3 \n",
    "        \n",
    "        context_vector =  attention_weights * values\n",
    "        \n",
    "        context_vector = tf.reduce_sum(context_vector, 1)\n",
    "        \n",
    "        return context_vector, attention_weights\n"
   ]
  },
  {
   "cell_type": "code",
   "execution_count": 32,
   "metadata": {
    "colab": {
     "base_uri": "https://localhost:8080/"
    },
    "id": "2lJAD_s7ntBK",
    "outputId": "3d7aab78-b04d-4ffa-927d-cd44a488ece4"
   },
   "outputs": [
    {
     "name": "stdout",
     "output_type": "stream",
     "text": [
      "Attention result shape: (batch size, units) : (64, 1024)\n",
      "\n",
      "Attention weights shape: (batch_size, sequence_length, 1) : (64, 20, 1)\n"
     ]
    }
   ],
   "source": [
    "attention_layer = BahdanauAttention(10)\n",
    "\n",
    "attention_result, attention_weights = attention_layer(sample_hidden, \n",
    "                                                      sample_output)\n",
    "\n",
    "print(\"Attention result shape: (batch size, units) : {}\".format(attention_result.shape))\n",
    "print()\n",
    "print(\"Attention weights shape: (batch_size, sequence_length, 1) : {}\".format(attention_weights.shape))"
   ]
  },
  {
   "cell_type": "code",
   "execution_count": 33,
   "metadata": {
    "id": "y9luqkWentBL"
   },
   "outputs": [],
   "source": [
    "# Creating Decoder\n",
    "\n",
    "# Creating a Custom Layer\n",
    "\n",
    "class Decoder(tf.keras.Model):\n",
    "    \n",
    "    def __init__(self, vocab_size, embedding_dim, dec_units, batch_sz):\n",
    "        \n",
    "        super(Decoder,self).__init__()\n",
    "        \n",
    "        '''\n",
    "        vocab_size : Size of vocabulary for the resulting sentence (i.e.,English)\n",
    "        embedding_dim : Size of the Embedding layer\n",
    "        enc_units : No. of Hidden Units in the GRU\n",
    "        batch_sz : Batch Size\n",
    "        '''\n",
    "        \n",
    "        self.dec_units = dec_units\n",
    "        \n",
    "        self.batch_sz = batch_sz\n",
    "        \n",
    "        # Embedding layer\n",
    "        \n",
    "        self.embedding = tf.keras.layers.Embedding(vocab_size, \n",
    "                                                   embedding_dim)\n",
    "        \n",
    "        # GRU\n",
    "        \n",
    "        self.gru = tf.keras.layers.GRU(dec_units,\n",
    "                                       return_sequences = True,\n",
    "                                       return_state = True,\n",
    "                                       recurrent_initializer = 'glorot_uniform')\n",
    "        \n",
    "        # Dense Layer\n",
    "        \n",
    "        self.fc = tf.keras.layers.Dense(vocab_size)\n",
    "        \n",
    "        # An Instance of attention layer \n",
    "        \n",
    "        self.attention = BahdanauAttention(self.dec_units)\n",
    "    \n",
    "    \n",
    "    #Function that will create the model with the layers \n",
    "    \n",
    "    def call(self, x, hidden, enc_output):\n",
    "        \n",
    "        '''\n",
    "        x :Input to the decoder\n",
    "        hidden: Hidden state of the GRU\n",
    "        enc_output: Output from the encoder layer (not attention layer)\n",
    "        '''\n",
    "        \n",
    "        '''I combined the attention layer with the decoder layer.So that the attention \n",
    "        is calculated at the decoder.'''\n",
    "        \n",
    "        #Calculate attention vector\n",
    "        \n",
    "        context_vector, attention_weights = self.attention(hidden, \n",
    "                                                           enc_output)\n",
    "        \n",
    "        #Embedding Layer\n",
    "        \n",
    "        x = self.embedding(x)\n",
    "        \n",
    "        #Concating the attention vector with x\n",
    "        \n",
    "        x = tf.concat( [ tf.expand_dims(context_vector, 1), x ], \n",
    "                      axis = -1 )\n",
    "        \n",
    "        output, state = self.gru(x)\n",
    "        \n",
    "        #just Reshaaping the output i.e., (Batch_Size,Vocab_Dims)\n",
    "        \n",
    "        output = tf.reshape(output,(-1, output.shape[2]))\n",
    "        \n",
    "        #Passing it through a Dense layer\n",
    "        \n",
    "        x = self.fc(output)\n",
    "        \n",
    "        return x, state, attention_weights\n"
   ]
  },
  {
   "cell_type": "code",
   "execution_count": 34,
   "metadata": {
    "colab": {
     "base_uri": "https://localhost:8080/"
    },
    "id": "ExyUmy92ntBM",
    "outputId": "5f586e8f-8367-4d6c-b85c-fba79a45c9ea"
   },
   "outputs": [
    {
     "name": "stdout",
     "output_type": "stream",
     "text": [
      "Decoder output shape: (batch_size, vocab size) = (64, 9819)\n"
     ]
    }
   ],
   "source": [
    "decoder = Decoder(vocab_tar_size, \n",
    "                  embedding_dim, \n",
    "                  units, \n",
    "                  BATCH_SIZE\n",
    "                 )\n",
    "\n",
    "sample_decoder_output, _, _ = decoder(tf.random.uniform( (BATCH_SIZE, 1) ),\n",
    "                                      sample_hidden, \n",
    "                                      sample_output\n",
    "                                     )\n",
    "\n",
    "print('Decoder output shape: (batch_size, vocab size) = {}'.format(sample_decoder_output.shape))\n"
   ]
  },
  {
   "cell_type": "code",
   "execution_count": 35,
   "metadata": {
    "id": "Yxn6qDc5ntBN"
   },
   "outputs": [],
   "source": [
    "# Training the Model\n",
    "\n",
    "# using Adam Optimizer, and Sparse Categorical Cross Entropy loss\n",
    "\n",
    "# Creating Optimizer Object\n",
    "\n",
    "optimizer = tf.keras.optimizers.Adam()\n",
    "\n",
    "# Creating Loss Object\n",
    "\n",
    "loss_object = tf.keras.losses.SparseCategoricalCrossentropy(from_logits = True, \n",
    "                                                            reduction = 'none'\n",
    "                                                           )\n",
    "\n",
    "''' We will be taking bulks of data from the dataset while training\n",
    "This function just uses the Loss Object to deal with a bulk of data, \n",
    "and calculate loss for the whole bulk'''\n",
    "\n",
    "def loss_function(real, pred):\n",
    "    \n",
    "    mask = tf.math.logical_not( tf.math.equal(real, 0) )\n",
    "    \n",
    "    loss_ = loss_object(real, pred)\n",
    "    \n",
    "    mask = tf.cast(mask, dtype = loss_.dtype)\n",
    "    \n",
    "    loss_ *= mask\n",
    "    \n",
    "    return tf.reduce_mean(loss_)\n"
   ]
  },
  {
   "cell_type": "code",
   "execution_count": 36,
   "metadata": {
    "id": "EeCbuTlfntBO"
   },
   "outputs": [],
   "source": [
    "# Storing Model Progress while Training\n",
    "\n",
    "# Checkpoint Storing Path \n",
    "\n",
    "checkpoint_dir = './training_checkpoints'\n",
    "\n",
    "# Index of Checkpoint\n",
    "\n",
    "checkpoint_prefix = os.path.join(checkpoint_dir, 'ckpt')\n",
    "\n",
    "# Checkpoint Object that will store the state of each layer\n",
    "\n",
    "checkpoint = tf.train.Checkpoint(optimizer = optimizer,\n",
    "                                 encoder = encoder,\n",
    "                                 decoder = decoder\n",
    "                                )\n",
    "\n",
    "# we combined the Attention layer with the decoder layer so we don't\n",
    "# have to save it explicitly."
   ]
  },
  {
   "cell_type": "code",
   "execution_count": 37,
   "metadata": {
    "id": "W9SnVtpontBO"
   },
   "outputs": [],
   "source": [
    "def train_step(inp,targ,enc_hidden):\n",
    "    \n",
    "    loss = 0\n",
    "    \n",
    "    with tf.GradientTape() as tape:\n",
    "        \n",
    "        # Step-4\n",
    "        \n",
    "        enc_output, enc_hidden = encoder(inp, enc_hidden)\n",
    "        \n",
    "        dec_hidden = enc_hidden\n",
    "        \n",
    "        # Step-7\n",
    "        \n",
    "        dec_input = tf.expand_dims([ targ_lang.word_index['<start>'] ] * BATCH_SIZE, \n",
    "                                   1\n",
    "                                  )\n",
    "        \n",
    "        # We have to concatenate the decoder input with the attention vector\n",
    "        # So we have to convert it into 2-D by expanding Dims.\n",
    "        \n",
    "        for t in range(1, targ.shape[1]):\n",
    "            \n",
    "            predictions, dec_hidden,_ = decoder(dec_input, \n",
    "                                                dec_hidden, \n",
    "                                                enc_output\n",
    "                                               )\n",
    "            \n",
    "            # Increment the loss,targ[:,t] means we are calculating loss for the \n",
    "            # t'th word in all batches at the same time.(BULK!)\n",
    "            \n",
    "            loss += loss_function(targ[:,t], predictions)\n",
    "            \n",
    "            # We have to concatenate the decoder input with the attention vector\n",
    "            # So we have to convert it into 2-D by expanding Dims.\n",
    "            \n",
    "            dec_input = tf.expand_dims(targ[:,t], 1)\n",
    "            \n",
    "    batch_loss = (loss / int(targ.shape[1]))\n",
    "    \n",
    "    # Get all the trainable variables\n",
    "    \n",
    "    variables = encoder.trainable_variables + decoder.trainable_variables\n",
    "    \n",
    "    # Calculate Derivative\n",
    "    \n",
    "    gradients = tape.gradient(loss, variables)\n",
    "    \n",
    "    # Apply the gradients\n",
    "    \n",
    "    optimizer.apply_gradients(zip(gradients, variables))\n",
    "    \n",
    "    return batch_loss\n"
   ]
  },
  {
   "cell_type": "code",
   "execution_count": 38,
   "metadata": {
    "colab": {
     "base_uri": "https://localhost:8080/"
    },
    "id": "93MSS3ylntBP",
    "outputId": "d17b24a8-e96d-4d6e-a009-e3ac10329773"
   },
   "outputs": [
    {
     "name": "stdout",
     "output_type": "stream",
     "text": [
      "Epoch 1 Batch 0 Loss 4.7294\n",
      "Epoch 1 Batch 100 Loss 2.1914\n",
      "Epoch 1 Batch 200 Loss 2.0314\n",
      "Epoch 1 Batch 300 Loss 1.6942\n",
      "Epoch 1 Batch 400 Loss 1.8506\n",
      "Epoch 1 Batch 500 Loss 1.6889\n",
      "Epoch 1 Batch 600 Loss 1.4352\n",
      "Epoch 1 Batch 700 Loss 1.3825\n",
      "Epoch 1 Batch 800 Loss 1.4946\n",
      "Epoch 1 Batch 900 Loss 1.2470\n",
      "Epoch 1 Batch 1000 Loss 1.1410\n",
      "Epoch 1 Batch 1100 Loss 1.1949\n",
      "Epoch 1 Loss 1.6227\n",
      "\n",
      "Time taken for 1 epoch 503.5951602458954 sec\n",
      "\n",
      "Epoch 2 Batch 0 Loss 0.9797\n",
      "Epoch 2 Batch 100 Loss 1.0613\n",
      "Epoch 2 Batch 200 Loss 1.0554\n",
      "Epoch 2 Batch 300 Loss 1.0541\n",
      "Epoch 2 Batch 400 Loss 0.8628\n",
      "Epoch 2 Batch 500 Loss 0.7814\n",
      "Epoch 2 Batch 600 Loss 0.9397\n",
      "Epoch 2 Batch 700 Loss 0.8902\n",
      "Epoch 2 Batch 800 Loss 0.8064\n",
      "Epoch 2 Batch 900 Loss 0.8485\n",
      "Epoch 2 Batch 1000 Loss 0.8857\n",
      "Epoch 2 Batch 1100 Loss 0.7488\n",
      "Epoch 2 Loss 0.8739\n",
      "\n",
      "Time taken for 1 epoch 489.92234349250793 sec\n",
      "\n",
      "Epoch 3 Batch 0 Loss 0.5439\n",
      "Epoch 3 Batch 100 Loss 0.5394\n",
      "Epoch 3 Batch 200 Loss 0.5818\n",
      "Epoch 3 Batch 300 Loss 0.5305\n",
      "Epoch 3 Batch 400 Loss 0.4895\n",
      "Epoch 3 Batch 500 Loss 0.5053\n",
      "Epoch 3 Batch 600 Loss 0.6224\n",
      "Epoch 3 Batch 700 Loss 0.5271\n",
      "Epoch 3 Batch 800 Loss 0.5265\n",
      "Epoch 3 Batch 900 Loss 0.5134\n",
      "Epoch 3 Batch 1000 Loss 0.5319\n",
      "Epoch 3 Batch 1100 Loss 0.3994\n",
      "Epoch 3 Loss 0.5391\n",
      "\n",
      "Time taken for 1 epoch 492.9413402080536 sec\n",
      "\n",
      "Epoch 4 Batch 0 Loss 0.3116\n",
      "Epoch 4 Batch 100 Loss 0.3374\n",
      "Epoch 4 Batch 200 Loss 0.3358\n",
      "Epoch 4 Batch 300 Loss 0.3634\n",
      "Epoch 4 Batch 400 Loss 0.3808\n",
      "Epoch 4 Batch 500 Loss 0.3490\n",
      "Epoch 4 Batch 600 Loss 0.3605\n",
      "Epoch 4 Batch 700 Loss 0.3212\n",
      "Epoch 4 Batch 800 Loss 0.3782\n",
      "Epoch 4 Batch 900 Loss 0.3850\n",
      "Epoch 4 Batch 1000 Loss 0.3566\n",
      "Epoch 4 Batch 1100 Loss 0.3411\n",
      "Epoch 4 Loss 0.3589\n",
      "\n",
      "Time taken for 1 epoch 491.5390508174896 sec\n",
      "\n",
      "Epoch 5 Batch 0 Loss 0.2321\n",
      "Epoch 5 Batch 100 Loss 0.2115\n",
      "Epoch 5 Batch 200 Loss 0.1996\n",
      "Epoch 5 Batch 300 Loss 0.2416\n",
      "Epoch 5 Batch 400 Loss 0.2725\n",
      "Epoch 5 Batch 500 Loss 0.2700\n",
      "Epoch 5 Batch 600 Loss 0.2550\n",
      "Epoch 5 Batch 700 Loss 0.2017\n",
      "Epoch 5 Batch 800 Loss 0.2791\n",
      "Epoch 5 Batch 900 Loss 0.2283\n",
      "Epoch 5 Batch 1000 Loss 0.2531\n",
      "Epoch 5 Batch 1100 Loss 0.2548\n",
      "Epoch 5 Loss 0.2510\n",
      "\n",
      "Time taken for 1 epoch 486.8164813518524 sec\n",
      "\n",
      "Epoch 6 Batch 0 Loss 0.2135\n",
      "Epoch 6 Batch 100 Loss 0.1659\n",
      "Epoch 6 Batch 200 Loss 0.1405\n",
      "Epoch 6 Batch 300 Loss 0.1709\n",
      "Epoch 6 Batch 400 Loss 0.1861\n",
      "Epoch 6 Batch 500 Loss 0.2444\n",
      "Epoch 6 Batch 600 Loss 0.2054\n",
      "Epoch 6 Batch 700 Loss 0.2087\n",
      "Epoch 6 Batch 800 Loss 0.2154\n",
      "Epoch 6 Batch 900 Loss 0.1605\n",
      "Epoch 6 Batch 1000 Loss 0.2402\n",
      "Epoch 6 Batch 1100 Loss 0.2100\n",
      "Epoch 6 Loss 0.1844\n",
      "\n",
      "Time taken for 1 epoch 494.96524572372437 sec\n",
      "\n",
      "Epoch 7 Batch 0 Loss 0.1169\n",
      "Epoch 7 Batch 100 Loss 0.1325\n",
      "Epoch 7 Batch 200 Loss 0.1125\n",
      "Epoch 7 Batch 300 Loss 0.1268\n",
      "Epoch 7 Batch 400 Loss 0.1609\n",
      "Epoch 7 Batch 500 Loss 0.1305\n",
      "Epoch 7 Batch 600 Loss 0.1598\n",
      "Epoch 7 Batch 700 Loss 0.1502\n",
      "Epoch 7 Batch 800 Loss 0.1566\n",
      "Epoch 7 Batch 900 Loss 0.1508\n",
      "Epoch 7 Batch 1000 Loss 0.1720\n",
      "Epoch 7 Batch 1100 Loss 0.1743\n",
      "Epoch 7 Loss 0.1435\n",
      "\n",
      "Time taken for 1 epoch 487.7742278575897 sec\n",
      "\n",
      "Epoch 8 Batch 0 Loss 0.0979\n",
      "Epoch 8 Batch 100 Loss 0.1184\n",
      "Epoch 8 Batch 200 Loss 0.1032\n",
      "Epoch 8 Batch 300 Loss 0.1047\n",
      "Epoch 8 Batch 400 Loss 0.1099\n",
      "Epoch 8 Batch 500 Loss 0.1153\n",
      "Epoch 8 Batch 600 Loss 0.0950\n",
      "Epoch 8 Batch 700 Loss 0.1647\n",
      "Epoch 8 Batch 800 Loss 0.1142\n",
      "Epoch 8 Batch 900 Loss 0.1447\n",
      "Epoch 8 Batch 1000 Loss 0.1386\n",
      "Epoch 8 Batch 1100 Loss 0.1115\n",
      "Epoch 8 Loss 0.1154\n",
      "\n",
      "Time taken for 1 epoch 483.24177408218384 sec\n",
      "\n",
      "Epoch 9 Batch 0 Loss 0.0724\n",
      "Epoch 9 Batch 100 Loss 0.0818\n",
      "Epoch 9 Batch 200 Loss 0.0842\n",
      "Epoch 9 Batch 300 Loss 0.0918\n",
      "Epoch 9 Batch 400 Loss 0.1078\n",
      "Epoch 9 Batch 500 Loss 0.0951\n",
      "Epoch 9 Batch 600 Loss 0.0773\n",
      "Epoch 9 Batch 700 Loss 0.0981\n",
      "Epoch 9 Batch 800 Loss 0.0754\n",
      "Epoch 9 Batch 900 Loss 0.1118\n",
      "Epoch 9 Batch 1000 Loss 0.1274\n",
      "Epoch 9 Batch 1100 Loss 0.1420\n",
      "Epoch 9 Loss 0.0983\n",
      "\n",
      "Time taken for 1 epoch 482.6613509654999 sec\n",
      "\n",
      "Epoch 10 Batch 0 Loss 0.0900\n",
      "Epoch 10 Batch 100 Loss 0.0663\n",
      "Epoch 10 Batch 200 Loss 0.0679\n",
      "Epoch 10 Batch 300 Loss 0.0752\n",
      "Epoch 10 Batch 400 Loss 0.0735\n",
      "Epoch 10 Batch 500 Loss 0.1053\n",
      "Epoch 10 Batch 600 Loss 0.0799\n",
      "Epoch 10 Batch 700 Loss 0.0892\n",
      "Epoch 10 Batch 800 Loss 0.0824\n",
      "Epoch 10 Batch 900 Loss 0.0647\n",
      "Epoch 10 Batch 1000 Loss 0.0840\n",
      "Epoch 10 Batch 1100 Loss 0.0841\n",
      "Epoch 10 Loss 0.0868\n",
      "\n",
      "Time taken for 1 epoch 480.50377678871155 sec\n",
      "\n",
      "Epoch 11 Batch 0 Loss 0.0531\n",
      "Epoch 11 Batch 100 Loss 0.0685\n",
      "Epoch 11 Batch 200 Loss 0.0630\n",
      "Epoch 11 Batch 300 Loss 0.0598\n",
      "Epoch 11 Batch 400 Loss 0.0577\n",
      "Epoch 11 Batch 500 Loss 0.0699\n",
      "Epoch 11 Batch 600 Loss 0.0745\n",
      "Epoch 11 Batch 700 Loss 0.1062\n",
      "Epoch 11 Batch 800 Loss 0.0598\n",
      "Epoch 11 Batch 900 Loss 0.0883\n",
      "Epoch 11 Batch 1000 Loss 0.0745\n",
      "Epoch 11 Batch 1100 Loss 0.0693\n",
      "Epoch 11 Loss 0.0780\n",
      "\n",
      "Time taken for 1 epoch 482.1167848110199 sec\n",
      "\n",
      "Epoch 12 Batch 0 Loss 0.0807\n",
      "Epoch 12 Batch 100 Loss 0.0501\n",
      "Epoch 12 Batch 200 Loss 0.0708\n",
      "Epoch 12 Batch 300 Loss 0.0687\n",
      "Epoch 12 Batch 400 Loss 0.0593\n",
      "Epoch 12 Batch 500 Loss 0.0618\n",
      "Epoch 12 Batch 600 Loss 0.0675\n",
      "Epoch 12 Batch 700 Loss 0.0680\n",
      "Epoch 12 Batch 800 Loss 0.0435\n",
      "Epoch 12 Batch 900 Loss 0.1026\n",
      "Epoch 12 Batch 1000 Loss 0.1058\n",
      "Epoch 12 Batch 1100 Loss 0.0940\n",
      "Epoch 12 Loss 0.0711\n",
      "\n",
      "Time taken for 1 epoch 486.3939051628113 sec\n",
      "\n",
      "Epoch 13 Batch 0 Loss 0.0704\n",
      "Epoch 13 Batch 100 Loss 0.0425\n",
      "Epoch 13 Batch 200 Loss 0.0296\n",
      "Epoch 13 Batch 300 Loss 0.0328\n",
      "Epoch 13 Batch 400 Loss 0.0578\n",
      "Epoch 13 Batch 500 Loss 0.0522\n",
      "Epoch 13 Batch 600 Loss 0.0602\n",
      "Epoch 13 Batch 700 Loss 0.0756\n",
      "Epoch 13 Batch 800 Loss 0.0579\n",
      "Epoch 13 Batch 900 Loss 0.0686\n",
      "Epoch 13 Batch 1000 Loss 0.0901\n",
      "Epoch 13 Batch 1100 Loss 0.0720\n",
      "Epoch 13 Loss 0.0665\n",
      "\n",
      "Time taken for 1 epoch 484.6115913391113 sec\n",
      "\n",
      "Epoch 14 Batch 0 Loss 0.0538\n",
      "Epoch 14 Batch 100 Loss 0.0500\n",
      "Epoch 14 Batch 200 Loss 0.0505\n",
      "Epoch 14 Batch 300 Loss 0.0762\n",
      "Epoch 14 Batch 400 Loss 0.0752\n",
      "Epoch 14 Batch 500 Loss 0.0598\n",
      "Epoch 14 Batch 600 Loss 0.0275\n",
      "Epoch 14 Batch 700 Loss 0.0941\n",
      "Epoch 14 Batch 800 Loss 0.0548\n",
      "Epoch 14 Batch 900 Loss 0.0653\n",
      "Epoch 14 Batch 1000 Loss 0.0767\n",
      "Epoch 14 Batch 1100 Loss 0.0565\n",
      "Epoch 14 Loss 0.0645\n",
      "\n",
      "Time taken for 1 epoch 489.3003101348877 sec\n",
      "\n",
      "Epoch 15 Batch 0 Loss 0.0583\n",
      "Epoch 15 Batch 100 Loss 0.0295\n",
      "Epoch 15 Batch 200 Loss 0.0302\n",
      "Epoch 15 Batch 300 Loss 0.0490\n",
      "Epoch 15 Batch 400 Loss 0.0879\n",
      "Epoch 15 Batch 500 Loss 0.0527\n",
      "Epoch 15 Batch 600 Loss 0.0716\n",
      "Epoch 15 Batch 700 Loss 0.0585\n",
      "Epoch 15 Batch 800 Loss 0.0669\n",
      "Epoch 15 Batch 900 Loss 0.0762\n",
      "Epoch 15 Batch 1000 Loss 0.0612\n",
      "Epoch 15 Batch 1100 Loss 0.0663\n",
      "Epoch 15 Loss 0.0619\n",
      "\n",
      "Time taken for 1 epoch 489.49241948127747 sec\n",
      "\n"
     ]
    }
   ],
   "source": [
    "# Defining the number of epochs\n",
    "\n",
    "EPOCH = 15\n",
    "\n",
    "for epoch in range(EPOCH):\n",
    "    \n",
    "    #To calculate time taken for each epoch\n",
    "    \n",
    "    start = time.time()\n",
    "    \n",
    "    # Initializing the hidden state of the Encoder model\n",
    "    \n",
    "    enc_hidden = encoder.initialize_hidden_state()\n",
    "    \n",
    "    # Initializing total loss, which is zero initially\n",
    "    \n",
    "    total_loss = 0\n",
    "    \n",
    "    # Taking batches of data\n",
    "    \n",
    "    for (batch,(inp,targ)) in enumerate(dataset.take(steps_per_epoch)):\n",
    "        \n",
    "        batch_loss = train_step(inp, targ, enc_hidden)\n",
    "        \n",
    "        total_loss += batch_loss\n",
    "        \n",
    "        #Printing stats after 100 batches\n",
    "        \n",
    "        if batch % 100 == 0:\n",
    "            \n",
    "            print('Epoch {} Batch {} Loss {:.4f}'.format(epoch + 1,\n",
    "                                                         batch,\n",
    "                                                         batch_loss.numpy()\n",
    "                                                        ) )\n",
    "        \n",
    "    # saving (checkpoint) the model every 2 epochs\n",
    "        \n",
    "    if (epoch + 1) % 2 == 0:\n",
    "            \n",
    "        checkpoint.save(file_prefix = checkpoint_prefix)\n",
    "            \n",
    "    #Printing some stats.\n",
    "        \n",
    "    print('Epoch {} Loss {:.4f}'.format(epoch + 1,\n",
    "                                        total_loss / steps_per_epoch))\n",
    "        \n",
    "    print()\n",
    "        \n",
    "    print('Time taken for 1 epoch {} sec\\n'.format(time.time() - start))\n"
   ]
  },
  {
   "cell_type": "code",
   "execution_count": 39,
   "metadata": {
    "id": "I10YB68QntBQ"
   },
   "outputs": [],
   "source": [
    "#Function that translates a given sentence\n",
    "def evaluate(sentence):\n",
    "    \n",
    "    #This is to store the attention vector for plotting.Ignore this\n",
    "    attention_plot = np.zeros((max_length_targ, max_length_inp))\n",
    "    \n",
    "    #Preprocessing the sentence.Steps 2,3 and 4\n",
    "    sentence = preprocess_sentence(sentence)\n",
    "    inputs = [inp_lang.word_index[i] for i in sentence.split(' ')]\n",
    "    inputs = tf.keras.preprocessing.sequence.pad_sequences([inputs],\n",
    "                                                           maxlen=max_length_inp,\n",
    "                                                           padding='post')\n",
    "    \n",
    "    #Step 4\n",
    "    inputs = tf.convert_to_tensor(inputs)\n",
    "    \n",
    "    #creating a string to store the translated sentence\n",
    "    result = ''\n",
    "\n",
    "    #Step 5\n",
    "    hidden = [tf.zeros((1, units))]\n",
    "    enc_out, enc_hidden = encoder(inputs, hidden)\n",
    "    dec_hidden = enc_hidden\n",
    "\n",
    "    #Step 6\n",
    "    dec_input = tf.expand_dims([targ_lang.word_index['<start>']], 0)\n",
    "\n",
    "    #Step 7\n",
    "    for t in range(max_length_targ):\n",
    "        predictions, dec_hidden, attention_weights = decoder(dec_input,\n",
    "                                                         dec_hidden,\n",
    "                                                         enc_out)\n",
    "\n",
    "        # storing the attention weights to plot later on.Ignore it\n",
    "        attention_weights = tf.reshape(attention_weights, (-1, ))\n",
    "        attention_plot[t] = attention_weights.numpy()\n",
    "\n",
    "        #Step 8\n",
    "        predicted_id = tf.argmax(predictions[0]).numpy()\n",
    "\n",
    "        result += targ_lang.index_word[predicted_id] + ' '\n",
    "\n",
    "        if targ_lang.index_word[predicted_id] == '<end>':\n",
    "            return result, sentence, attention_plot\n",
    "\n",
    "        # the predicted ID is fed back into the model\n",
    "        dec_input = tf.expand_dims([predicted_id], 0)\n",
    "        \n",
    "    #Return the Original Sentence,Translated Sentence and the history of attention weights\n",
    "    return result, sentence, attention_plot"
   ]
  },
  {
   "cell_type": "code",
   "execution_count": 40,
   "metadata": {
    "colab": {
     "base_uri": "https://localhost:8080/"
    },
    "id": "oDCUKtqLntBQ",
    "outputId": "491a05db-f2ff-4211-9b53-45fb9ef6d2a8"
   },
   "outputs": [
    {
     "name": "stdout",
     "output_type": "stream",
     "text": [
      "i won ! <end> \n"
     ]
    }
   ],
   "source": [
    "sentence = u'Ich hab gewonnen!'\n",
    "translation,_,_ = evaluate(sentence)\n",
    "print(translation)"
   ]
  },
  {
   "cell_type": "code",
   "execution_count": 41,
   "metadata": {
    "id": "uKQxs3CSntBQ"
   },
   "outputs": [],
   "source": [
    "# function for plotting the attention weights\n",
    "def plot_attention(attention, sentence, predicted_sentence):\n",
    "    fig = plt.figure(figsize=(10,10))\n",
    "    ax = fig.add_subplot(1, 1, 1)\n",
    "    ax.matshow(attention, cmap='viridis')\n",
    "    \n",
    "    fontdict = {'fontsize': 14}\n",
    "    \n",
    "    ax.set_xticklabels([''] + sentence, fontdict=fontdict, rotation=90)\n",
    "    ax.set_yticklabels([''] + predicted_sentence, fontdict=fontdict)\n",
    "    \n",
    "    ax.xaxis.set_major_locator(ticker.MultipleLocator(1))\n",
    "    ax.yaxis.set_major_locator(ticker.MultipleLocator(1))\n",
    "    \n",
    "    plt.show()"
   ]
  },
  {
   "cell_type": "code",
   "execution_count": 42,
   "metadata": {
    "id": "qI9QsWAsntBR"
   },
   "outputs": [],
   "source": [
    "def translate(sentence):\n",
    "    result, sentence, attention_plot = evaluate(sentence)\n",
    "    \n",
    "    print('Input: %s' % (sentence))\n",
    "    print('Translation: {}'.format(result))\n",
    "    print()\n",
    "    \n",
    "    attention_plot = attention_plot[:len(result.split(' ')), :len(sentence.split(' '))]\n",
    "    \n",
    "    plot_attention(attention_plot, sentence.split(' '), result.split(' '))"
   ]
  },
  {
   "cell_type": "code",
   "execution_count": 43,
   "metadata": {
    "colab": {
     "base_uri": "https://localhost:8080/"
    },
    "id": "mvjm2vjOntBR",
    "outputId": "e692e83f-d844-493e-f82e-15cf5a164ac3"
   },
   "outputs": [
    {
     "data": {
      "text/plain": [
       "<tensorflow.python.training.tracking.util.CheckpointLoadStatus at 0x7f7c86287f10>"
      ]
     },
     "execution_count": 43,
     "metadata": {},
     "output_type": "execute_result"
    }
   ],
   "source": [
    "checkpoint.restore(tf.train.latest_checkpoint(checkpoint_dir))"
   ]
  },
  {
   "cell_type": "code",
   "execution_count": 44,
   "metadata": {
    "colab": {
     "base_uri": "https://localhost:8080/",
     "height": 615
    },
    "id": "A6qcZB9lsKbS",
    "outputId": "557b6eba-4423-4b31-88c4-c04c3e36f1ff"
   },
   "outputs": [
    {
     "name": "stdout",
     "output_type": "stream",
     "text": [
      "Input: <start> ich hab gewonnen ! <end>\n",
      "Predicted translation: i won ! <end> \n"
     ]
    },
    {
     "data": {
      "image/png": "[encoded data removed]",
      "text/plain": [
       "<Figure size 720x720 with 1 Axes>"
      ]
     },
     "metadata": {
      "needs_background": "light"
     },
     "output_type": "display_data"
    }
   ],
   "source": [
    "translate(u'Ich hab gewonnen!')"
   ]
  },
  {
   "cell_type": "code",
   "execution_count": 45,
   "metadata": {
    "colab": {
     "base_uri": "https://localhost:8080/",
     "height": 677
    },
    "id": "dGgopMZesKgV",
    "outputId": "69e93be6-089b-47c1-8889-a97b47192e8f"
   },
   "outputs": [
    {
     "name": "stdout",
     "output_type": "stream",
     "text": [
      "Input: <start> hallo ! <end>\n",
      "Predicted translation: hello ! <end> \n"
     ]
    },
    {
     "data": {
      "image/png": "[encoded data removed]",
      "text/plain": [
       "<Figure size 720x720 with 1 Axes>"
      ]
     },
     "metadata": {
      "needs_background": "light"
     },
     "output_type": "display_data"
    }
   ],
   "source": [
    "translate(u'Hallo!')"
   ]
  },
  {
   "cell_type": "code",
   "execution_count": 50,
   "metadata": {
    "colab": {
     "base_uri": "https://localhost:8080/",
     "height": 705
    },
    "id": "cIddcTHaa0VO",
    "outputId": "b0fc1715-06ce-4afe-f319-ce8270ffa957"
   },
   "outputs": [
    {
     "name": "stdout",
     "output_type": "stream",
     "text": [
      "Input: <start> willkommen ! <end>\n",
      "Predicted translation: welcome . <end> \n"
     ]
    },
    {
     "data": {
      "image/png": "[encoded data removed]",
      "text/plain": [
       "<Figure size 720x720 with 1 Axes>"
      ]
     },
     "metadata": {
      "needs_background": "light"
     },
     "output_type": "display_data"
    }
   ],
   "source": [
    "translate(u'Willkommen!')"
   ]
  },
  {
   "cell_type": "code",
   "execution_count": 51,
   "metadata": {
    "colab": {
     "base_uri": "https://localhost:8080/",
     "height": 677
    },
    "id": "vTe7N0kCD0f8",
    "outputId": "307b5e71-634c-4601-ba9a-06dd261890eb"
   },
   "outputs": [
    {
     "name": "stdout",
     "output_type": "stream",
     "text": [
      "Input: <start> lamia . <end>\n",
      "Predicted translation: lamia . <end> \n"
     ]
    },
    {
     "data": {
      "image/png": "[encoded data removed]",
      "text/plain": [
       "<Figure size 720x720 with 1 Axes>"
      ]
     },
     "metadata": {
      "needs_background": "light"
     },
     "output_type": "display_data"
    }
   ],
   "source": [
    "translate(u'Lamia.')"
   ]
  },
  {
   "cell_type": "code",
   "execution_count": null,
   "metadata": {
    "id": "IGOF3badEWqv"
   },
   "outputs": [],
   "source": []
  }
 ],
 "metadata": {
  "accelerator": "GPU",
  "colab": {
   "collapsed_sections": [],
   "name": "Copy of Final V P2 COMPLETE GER - ENG 50000 examples.ipynb",
   "provenance": []
  },
  "kernelspec": {
   "display_name": "Python 3",
   "language": "python",
   "name": "python3"
  },
  "language_info": {
   "codemirror_mode": {
    "name": "ipython",
    "version": 3
   },
   "file_extension": ".py",
   "mimetype": "text/x-python",
   "name": "python",
   "nbconvert_exporter": "python",
   "pygments_lexer": "ipython3",
   "version": "3.7.6"
  }
 },
 "nbformat": 4,
 "nbformat_minor": 1
}
